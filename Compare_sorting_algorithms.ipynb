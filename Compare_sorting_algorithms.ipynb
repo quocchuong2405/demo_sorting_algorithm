{
 "cells": [
  {
   "cell_type": "code",
   "execution_count": 2,
   "metadata": {},
   "outputs": [],
   "source": [
    "import numpy as np\n",
    "import matplotlib.pyplot as plt\n",
    "import sympy as sp\n",
    "import timeit"
   ]
  },
  {
   "cell_type": "code",
   "execution_count": 3,
   "metadata": {},
   "outputs": [],
   "source": [
    "def merge_sort(arr):\n",
    "    if len(arr) > 1:\n",
    "        mid = len(arr)//2\n",
    "        L = arr[:mid]\n",
    "        R = arr[mid:]\n",
    "\n",
    "        merge_sort(L)\n",
    "        merge_sort(R)\n",
    " \n",
    "        i = j = k = 0\n",
    "\n",
    "        while i < len(L) and j < len(R):\n",
    "            if L[i] < R[j]:\n",
    "                arr[k] = L[i]\n",
    "                i += 1\n",
    "            else:\n",
    "                arr[k] = R[j]\n",
    "                j += 1\n",
    "            k += 1\n",
    "        while i < len(L):\n",
    "            arr[k] = L[i]\n",
    "            i += 1\n",
    "            k += 1\n",
    " \n",
    "        while j < len(R):\n",
    "            arr[k] = R[j]\n",
    "            j += 1\n",
    "            k += 1"
   ]
  },
  {
   "cell_type": "code",
   "execution_count": 4,
   "metadata": {},
   "outputs": [],
   "source": [
    "def heapify(arr, n, i):\n",
    "    largest = i  \n",
    "    l = 2 * i + 1  \n",
    "    r = 2 * i + 2     \n",
    " \n",
    "    if l < n and arr[largest] < arr[l]:\n",
    "        largest = l\n",
    "\n",
    "    if r < n and arr[largest] < arr[r]:\n",
    "        largest = r\n",
    "\n",
    "    if largest != i:\n",
    "        arr[i], arr[largest] = arr[largest], arr[i]  \n",
    "        heapify(arr, n, largest)\n",
    " \n",
    " \n",
    "def heap_sort(arr):\n",
    "    n = len(arr)\n",
    "\n",
    "    for i in range(n//2 - 1, -1, -1):\n",
    "        heapify(arr, n, i)\n",
    " \n",
    "    for i in range(n-1, 0, -1):\n",
    "        arr[i], arr[0] = arr[0], arr[i]\n",
    "        heapify(arr, i, 0)"
   ]
  },
  {
   "cell_type": "code",
   "execution_count": 5,
   "metadata": {},
   "outputs": [],
   "source": [
    "def shell_sort(arr):\n",
    "    interval = len(arr) // 2\n",
    "    while interval > 0:\n",
    "        for i in range(interval, len(arr)):\n",
    "            temp = arr[i]\n",
    "            j = i\n",
    "            while j >= interval and arr[j - interval] > temp:\n",
    "                arr[j] = arr[j - interval]\n",
    "                j -= interval\n",
    "            arr[j] = temp\n",
    "        interval //= 2"
   ]
  },
  {
   "cell_type": "code",
   "execution_count": 6,
   "metadata": {},
   "outputs": [],
   "source": [
    "def bubble_sort(arr):\n",
    "    for i in range(len(arr)):\n",
    "        for j in range(len(arr) - 1):\n",
    "            if arr[j] > arr[j+1]:\n",
    "                arr[j], arr[j+1] = arr[j+1], arr[j]"
   ]
  },
  {
   "cell_type": "code",
   "execution_count": 7,
   "metadata": {},
   "outputs": [],
   "source": [
    "def insertion_sort(arr):\n",
    "    indexing_length = range(1, len(arr))\n",
    "    for i in indexing_length:\n",
    "        value_to_sort = arr[i]\n",
    "\n",
    "        while ((arr[i-1] > value_to_sort) and (i > 0)):\n",
    "            arr[i], arr[i-1] = arr[i-1], arr[i]\n",
    "            i = i -1"
   ]
  },
  {
   "cell_type": "code",
   "execution_count": 8,
   "metadata": {},
   "outputs": [],
   "source": [
    "def selection_sort(arr):\n",
    "    indexing_length = range(0, len(arr)-1)\n",
    "\n",
    "    for i in indexing_length:\n",
    "        min_value = i\n",
    "\n",
    "        for j in range(i+1, len(arr)):\n",
    "            if arr[j] < arr[min_value]:\n",
    "                min_value = j\n",
    "\n",
    "\n",
    "        if min_value != i:\n",
    "            arr[min_value], arr[i] = arr[i], arr[min_value]"
   ]
  },
  {
   "cell_type": "code",
   "execution_count": 9,
   "metadata": {},
   "outputs": [],
   "source": [
    "def quick_sort(arr, left, right):\n",
    "    i = left\n",
    "    j = right\n",
    "    pivot = arr[((i+j)//2)]\n",
    "    while (i <= j):\n",
    "        while (arr[i] < pivot): \n",
    "            i += 1\n",
    "        while (arr[j] > pivot):\n",
    "            j -= 1\n",
    "        if (i <= j):\n",
    "            temp = arr[i]\n",
    "            arr[i] = arr[j]\n",
    "            arr[j] = temp \n",
    "            i += 1\n",
    "            j -= 1\n",
    "    if (left < j): quick_sort(arr, left, j)\n",
    "    if (i < right): quick_sort(arr, i, right)"
   ]
  },
  {
   "source": [
    "\n",
    "Shell sort algorithm:  Shell sort is an algorithm that first sorts the elements far apart from each other and successively reduces the interval between the elements to be sorted. It is a generalized version of insertion sort.\n",
    "\n",
    "In shell sort, elements at a specific interval are sorted. The interval between the elements is gradually decreased based on the sequence used. The performance of the shell sort depends on the type of sequence used for a given input array.\n",
    "\n",
    "Time complexity: Best case: O(nlog(n)), Average: O(n(log(n))^2), Worse case: O(n(log(n))^2)\n",
    "\n",
    "Space complexity: Worst case: O(1)"
   ],
   "cell_type": "markdown",
   "metadata": {}
  },
  {
   "cell_type": "code",
   "execution_count": 10,
   "metadata": {},
   "outputs": [
    {
     "output_type": "execute_result",
     "data": {
      "text/plain": [
       "array([ 156, 9588, 8177, ..., 1418, 2234, 4158])"
      ]
     },
     "metadata": {},
     "execution_count": 10
    }
   ],
   "source": [
    "arr = np.random.randint(10000, size=(10000))\n",
    "arr_shell_sort = arr\n",
    "arr_shell_sort"
   ]
  },
  {
   "cell_type": "code",
   "execution_count": 11,
   "metadata": {},
   "outputs": [
    {
     "output_type": "stream",
     "name": "stdout",
     "text": [
      "Time:  0.15453400000023976\n"
     ]
    }
   ],
   "source": [
    "arr_selections_sort = arr\n",
    "\n",
    "start = timeit.default_timer()\n",
    "shell_sort(arr_shell_sort)\n",
    "stop = timeit.default_timer()\n",
    "\n",
    "print('Time: ', stop - start)  "
   ]
  },
  {
   "cell_type": "code",
   "execution_count": 12,
   "metadata": {},
   "outputs": [
    {
     "output_type": "execute_result",
     "data": {
      "text/plain": [
       "array([   0,    3,    6, ..., 9996, 9999, 9999])"
      ]
     },
     "metadata": {},
     "execution_count": 12
    }
   ],
   "source": [
    "arr_shell_sort"
   ]
  },
  {
   "source": [
    "Selection sort: Selection sort is an algorithm that selects the smallest element from an unsorted list in each iteration and places that element at the beginning of the unsorted list.\n",
    "\n",
    "Time complexity: O(n^2)\n",
    "\n",
    "Space complexity: O(1)"
   ],
   "cell_type": "markdown",
   "metadata": {}
  },
  {
   "cell_type": "code",
   "execution_count": 13,
   "metadata": {},
   "outputs": [
    {
     "output_type": "execute_result",
     "data": {
      "text/plain": [
       "array([4243, 3992, 3498, ..., 7653, 5208, 5694])"
      ]
     },
     "metadata": {},
     "execution_count": 13
    }
   ],
   "source": [
    "arr = np.random.randint(10000, size=(10000))\n",
    "arr_selections_sort = arr\n",
    "arr_selections_sort"
   ]
  },
  {
   "cell_type": "code",
   "execution_count": 14,
   "metadata": {},
   "outputs": [
    {
     "output_type": "stream",
     "name": "stdout",
     "text": [
      "Time:  17.185270299999956\n"
     ]
    }
   ],
   "source": [
    "arr_selections_sort = arr\n",
    "\n",
    "start = timeit.default_timer()\n",
    "selection_sort(arr_selections_sort)\n",
    "stop = timeit.default_timer()\n",
    "\n",
    "print('Time: ', stop - start)  "
   ]
  },
  {
   "cell_type": "code",
   "execution_count": 15,
   "metadata": {},
   "outputs": [
    {
     "output_type": "execute_result",
     "data": {
      "text/plain": [
       "array([   1,    1,    2, ..., 9999, 9999, 9999])"
      ]
     },
     "metadata": {},
     "execution_count": 15
    }
   ],
   "source": [
    "arr_selections_sort"
   ]
  },
  {
   "source": [
    "Bubble sort: This is the most basic sorting function that every programmer knows (and no one uses it :v)\n",
    "\n",
    "Time complexity: Best case: O(n)  -  Worst and Average case: O(n^2)\n",
    "\n",
    "Space complexity: O(1)"
   ],
   "cell_type": "markdown",
   "metadata": {}
  },
  {
   "cell_type": "code",
   "execution_count": 16,
   "metadata": {},
   "outputs": [
    {
     "output_type": "execute_result",
     "data": {
      "text/plain": [
       "array([4152, 6025, 4246, ..., 1799, 2765, 6250])"
      ]
     },
     "metadata": {},
     "execution_count": 16
    }
   ],
   "source": [
    "arr = np.random.randint(10000, size=(10000))\n",
    "arr_bubble_sort = arr\n",
    "arr_bubble_sort"
   ]
  },
  {
   "cell_type": "code",
   "execution_count": 17,
   "metadata": {},
   "outputs": [
    {
     "output_type": "stream",
     "name": "stdout",
     "text": [
      "Time:  50.843752400000085\n"
     ]
    }
   ],
   "source": [
    "start = timeit.default_timer()\n",
    "bubble_sort(arr_bubble_sort)\n",
    "stop = timeit.default_timer()\n",
    "\n",
    "print('Time: ', stop - start)  "
   ]
  },
  {
   "cell_type": "code",
   "execution_count": 18,
   "metadata": {},
   "outputs": [
    {
     "output_type": "execute_result",
     "data": {
      "text/plain": [
       "array([   0,    0,    1, ..., 9996, 9996, 9999])"
      ]
     },
     "metadata": {},
     "execution_count": 18
    }
   ],
   "source": [
    "arr_bubble_sort"
   ]
  },
  {
   "source": [
    "Merge sort: Merge sort is a divide-and-conquer algorithm based on the idea of breaking down a list into several sub-lists until each sublist consists of a single element and merging those sublists in a manner that results into a sorted list.\n",
    "\n",
    "Time complexity: O(nlog(n))\n",
    "\n",
    "Space complexity: O(n)"
   ],
   "cell_type": "markdown",
   "metadata": {}
  },
  {
   "cell_type": "code",
   "execution_count": 22,
   "metadata": {},
   "outputs": [
    {
     "output_type": "execute_result",
     "data": {
      "text/plain": [
       "99999997"
      ]
     },
     "metadata": {},
     "execution_count": 22
    }
   ],
   "source": [
    "arr = np.random.randint(100000000, size=(10000000)) #10^7\n",
    "arr_merge_sort = arr.tolist()\n",
    "arr.max() # I cannot do the merge sort on the numpy array, so I convert it to a list  - Because this is an optional algorithm so I wanna try a big number\n"
   ]
  },
  {
   "cell_type": "code",
   "execution_count": 23,
   "metadata": {},
   "outputs": [
    {
     "output_type": "stream",
     "name": "stdout",
     "text": [
      "Time:  76.24381129999983\n"
     ]
    }
   ],
   "source": [
    "start = timeit.default_timer()\n",
    "merge_sort(arr_merge_sort)\n",
    "stop = timeit.default_timer()\n",
    "\n",
    "print('Time: ', stop - start)  "
   ]
  },
  {
   "cell_type": "code",
   "execution_count": 25,
   "metadata": {},
   "outputs": [
    {
     "output_type": "execute_result",
     "data": {
      "text/plain": [
       "99999997"
      ]
     },
     "metadata": {},
     "execution_count": 25
    }
   ],
   "source": [
    "arr_merge_sort[10000000 - 1 ] #the last values (max) in increasing list - you can check the increasing list by running \" arr_merge_sort \" in next shell (trust me, it's too longggggggg, don't do this)"
   ]
  },
  {
   "cell_type": "code",
   "execution_count": null,
   "metadata": {},
   "outputs": [],
   "source": [
    "arr_merge_sort"
   ]
  },
  {
   "source": [
    "Insertion sort: Insertion sort is a sorting algorithm that places an unsorted element at its suitable place in each iteration.\n",
    "\n",
    "Time complexity: Best case: O(n) - Worst, Average cases: O(n^2)\n",
    "\n",
    "Space complexity: O(1)"
   ],
   "cell_type": "markdown",
   "metadata": {}
  },
  {
   "cell_type": "code",
   "execution_count": 26,
   "metadata": {},
   "outputs": [
    {
     "output_type": "execute_result",
     "data": {
      "text/plain": [
       "array([2811,  582, 8095, ..., 9169, 3856, 4800])"
      ]
     },
     "metadata": {},
     "execution_count": 26
    }
   ],
   "source": [
    "arr = np.random.randint(10000, size=(10000))\n",
    "arr_insertion_sort = arr\n",
    "arr_insertion_sort"
   ]
  },
  {
   "cell_type": "code",
   "execution_count": 27,
   "metadata": {},
   "outputs": [
    {
     "output_type": "stream",
     "name": "stdout",
     "text": [
      "Time:  19.59337800000003\n"
     ]
    }
   ],
   "source": [
    "start = timeit.default_timer()  \n",
    "insertion_sort(arr_insertion_sort)\n",
    "stop = timeit.default_timer()\n",
    "\n",
    "print('Time: ', stop - start)  "
   ]
  },
  {
   "cell_type": "code",
   "execution_count": 28,
   "metadata": {},
   "outputs": [
    {
     "output_type": "execute_result",
     "data": {
      "text/plain": [
       "array([   0,    0,    1, ..., 9999, 9999, 9999])"
      ]
     },
     "metadata": {},
     "execution_count": 28
    }
   ],
   "source": [
    "arr_insertion_sort"
   ]
  },
  {
   "source": [
    "Quick sort: Quicksort is an algorithm based on divide and conquer approach in which the array is split into subarrays and these sub-arrays are recursively called to sort the elements. // this is my favorite sort algorithm in programming, I learned it at grade 9.\n",
    "\n",
    "Time complexity: Best case: O(nlog(n)) - Average: O(nlog(n)) - Worst case: O(n^2)\n",
    "\n",
    "Space complexity: O(log(n))"
   ],
   "cell_type": "markdown",
   "metadata": {}
  },
  {
   "cell_type": "code",
   "execution_count": 32,
   "metadata": {},
   "outputs": [
    {
     "output_type": "execute_result",
     "data": {
      "text/plain": [
       "array([21438210, 42310323,  2237622, ..., 19344200, 33615104, 46350261])"
      ]
     },
     "metadata": {},
     "execution_count": 32
    }
   ],
   "source": [
    "arr = np.random.randint(100000000, size=(10000000))\n",
    "arr_quick_sort = arr\n",
    "arr_quick_sort"
   ]
  },
  {
   "cell_type": "code",
   "execution_count": 33,
   "metadata": {},
   "outputs": [
    {
     "output_type": "stream",
     "name": "stdout",
     "text": [
      "Time:  104.84076149999964\n"
     ]
    }
   ],
   "source": [
    "start = timeit.default_timer()\n",
    "quick_sort(arr_quick_sort, 0 , len(arr) -1)\n",
    "stop = timeit.default_timer()\n",
    "\n",
    "print('Time: ', stop - start)  "
   ]
  },
  {
   "cell_type": "code",
   "execution_count": 34,
   "metadata": {},
   "outputs": [
    {
     "output_type": "execute_result",
     "data": {
      "text/plain": [
       "array([       6,       30,       42, ..., 99999986, 99999986, 99999993])"
      ]
     },
     "metadata": {},
     "execution_count": 34
    }
   ],
   "source": [
    "arr_quick_sort # Hmmmm.... it is slower than Merge Sort, despite the same time complexity..., maybe it's the worst case "
   ]
  },
  {
   "source": [
    "Heap sort: Heap sort works by visualizing the elements of the array as a special kind of complete binary tree called a heap. There're 2 types of heap (max heap and min heap)\n",
    "\n",
    "Time complexity: O(nlog(n)) \n",
    "\n",
    "Space complexity: O(1)  - this is the best sort algorithm I've ever seen :))"
   ],
   "cell_type": "markdown",
   "metadata": {}
  },
  {
   "cell_type": "code",
   "execution_count": 35,
   "metadata": {},
   "outputs": [
    {
     "output_type": "execute_result",
     "data": {
      "text/plain": [
       "array([9030, 6052, 8478, ..., 4851, 3649, 6021])"
      ]
     },
     "metadata": {},
     "execution_count": 35
    }
   ],
   "source": [
    "arr = np.random.randint(10000, size=(10000))\n",
    "arr_heap_sort = arr\n",
    "arr_heap_sort"
   ]
  },
  {
   "cell_type": "code",
   "execution_count": 36,
   "metadata": {},
   "outputs": [
    {
     "output_type": "stream",
     "name": "stdout",
     "text": [
      "Time:  0.18467020000025514\n"
     ]
    }
   ],
   "source": [
    "start = timeit.default_timer()\n",
    "heap_sort(arr_heap_sort)\n",
    "stop = timeit.default_timer()\n",
    "\n",
    "print('Time: ', stop - start)"
   ]
  },
  {
   "cell_type": "code",
   "execution_count": 37,
   "metadata": {},
   "outputs": [
    {
     "output_type": "execute_result",
     "data": {
      "text/plain": [
       "array([   2,    2,    4, ..., 9994, 9997, 9998])"
      ]
     },
     "metadata": {},
     "execution_count": 37
    }
   ],
   "source": [
    "arr_heap_sort"
   ]
  },
  {
   "source": [
    "This this a sort function provided by python language to help programmers to do the sort quickly (or maybe they're lazy :3 )\n",
    "\n",
    "This is Timsort (implemented by Tim Peter) derived from merge sort and insertion sort, but asymptotically it’s no better than merge sort. The time complexity: Best case: O(n) -- Avarage and Worse cases: O(nlog(n))\n",
    "\n",
    "\"Timsort can require a temp array containing as many as N//2 pointers, which means as many as 2*N extra bytes on 32-bit boxes. It can be expected to require a temp array this large when sorting random data; on data with significant structure, it may get away without using any extra heap memory.\" The worst case space complexity is O(N) and best case O(1)\n"
   ],
   "cell_type": "markdown",
   "metadata": {}
  },
  {
   "cell_type": "code",
   "execution_count": 42,
   "metadata": {},
   "outputs": [
    {
     "output_type": "execute_result",
     "data": {
      "text/plain": [
       "array([745022405, 552374341, 585357211, ..., 739206249,  33259053,\n",
       "       238944817])"
      ]
     },
     "metadata": {},
     "execution_count": 42
    }
   ],
   "source": [
    "arr = np.random.randint(1000000000, size=(1000000000)) #10^9\n",
    "arr_auto_sort = arr\n",
    "arr_auto_sort"
   ]
  },
  {
   "cell_type": "code",
   "execution_count": 43,
   "metadata": {},
   "outputs": [
    {
     "output_type": "stream",
     "name": "stdout",
     "text": [
      "Time:  123.52269560000013\n"
     ]
    }
   ],
   "source": [
    "start = timeit.default_timer()\n",
    "arr_auto_sort.sort()\n",
    "stop = timeit.default_timer()\n",
    "\n",
    "print('Time: ', stop - start)  #surpriseeeee :v I didn't think that arr.sort() is significantly faster than my quicksort or mergesort as my project shown :v but it can't run on the tree structures :( so sad"
   ]
  },
  {
   "cell_type": "code",
   "execution_count": 44,
   "metadata": {},
   "outputs": [
    {
     "output_type": "execute_result",
     "data": {
      "text/plain": [
       "array([        0,         1,         1, ..., 999999993, 999999994,\n",
       "       999999995])"
      ]
     },
     "metadata": {},
     "execution_count": 44
    }
   ],
   "source": [
    "arr_auto_sort"
   ]
  },
  {
   "source": [
    "Reference: https://www.bigocheatsheet.com/?goback=.gde_98713_member_241501229\n",
    "https://en.wikipedia.org/wiki/Timsort\n"
   ],
   "cell_type": "markdown",
   "metadata": {}
  },
  {
   "cell_type": "code",
   "execution_count": null,
   "metadata": {},
   "outputs": [],
   "source": []
  }
 ],
 "metadata": {
  "kernelspec": {
   "display_name": "Python 3",
   "language": "python",
   "name": "python3"
  }
 },
 "nbformat": 4,
 "nbformat_minor": 2
}